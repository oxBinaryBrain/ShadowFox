{
  "nbformat": 4,
  "nbformat_minor": 0,
  "metadata": {
    "colab": {
      "provenance": [],
      "authorship_tag": "ABX9TyM0hhXZUTb0CJfQ4y4QTFtF",
      "include_colab_link": true
    },
    "kernelspec": {
      "name": "python3",
      "display_name": "Python 3"
    },
    "language_info": {
      "name": "python"
    }
  },
  "cells": [
    {
      "cell_type": "markdown",
      "metadata": {
        "id": "view-in-github",
        "colab_type": "text"
      },
      "source": [
        "<a href=\"https://colab.research.google.com/github/oxBinaryBrain/ShadowFox/blob/main/Shadowforx_Intermediate.ipynb\" target=\"_parent\"><img src=\"https://colab.research.google.com/assets/colab-badge.svg\" alt=\"Open In Colab\"/></a>"
      ]
    },
    {
      "cell_type": "markdown",
      "source": [
        "Loan Prediction (Intermediate)\n"
      ],
      "metadata": {
        "id": "ZNmRu_nTG2ri"
      }
    },
    {
      "cell_type": "code",
      "execution_count": 1,
      "metadata": {
        "id": "4g1nGjnGNUMf",
        "colab": {
          "base_uri": "https://localhost:8080/"
        },
        "outputId": "26dd7a31-e123-46c4-ad33-94bcb9cec97d"
      },
      "outputs": [
        {
          "output_type": "stream",
          "name": "stdout",
          "text": [
            "    Loan_ID Gender Married Dependents     Education Self_Employed  \\\n",
            "0  LP001002   Male      No          0      Graduate            No   \n",
            "1  LP001003   Male     Yes          1      Graduate            No   \n",
            "2  LP001005   Male     Yes          0      Graduate           Yes   \n",
            "3  LP001006   Male     Yes          0  Not Graduate            No   \n",
            "4  LP001008   Male      No          0      Graduate            No   \n",
            "\n",
            "   ApplicantIncome  CoapplicantIncome  LoanAmount  Loan_Amount_Term  \\\n",
            "0             5849                0.0         NaN             360.0   \n",
            "1             4583             1508.0       128.0             360.0   \n",
            "2             3000                0.0        66.0             360.0   \n",
            "3             2583             2358.0       120.0             360.0   \n",
            "4             6000                0.0       141.0             360.0   \n",
            "\n",
            "   Credit_History Property_Area Loan_Status  \n",
            "0             1.0         Urban           Y  \n",
            "1             1.0         Rural           N  \n",
            "2             1.0         Urban           Y  \n",
            "3             1.0         Urban           Y  \n",
            "4             1.0         Urban           Y  \n",
            "Loan_ID               0\n",
            "Gender               13\n",
            "Married               3\n",
            "Dependents           15\n",
            "Education             0\n",
            "Self_Employed        32\n",
            "ApplicantIncome       0\n",
            "CoapplicantIncome     0\n",
            "LoanAmount           22\n",
            "Loan_Amount_Term     14\n",
            "Credit_History       50\n",
            "Property_Area         0\n",
            "Loan_Status           0\n",
            "dtype: int64\n"
          ]
        },
        {
          "output_type": "stream",
          "name": "stderr",
          "text": [
            "<ipython-input-1-e7f6566568c5>:21: FutureWarning: A value is trying to be set on a copy of a DataFrame or Series through chained assignment using an inplace method.\n",
            "The behavior will change in pandas 3.0. This inplace method will never work because the intermediate object on which we are setting values always behaves as a copy.\n",
            "\n",
            "For example, when doing 'df[col].method(value, inplace=True)', try using 'df.method({col: value}, inplace=True)' or df[col] = df[col].method(value) instead, to perform the operation inplace on the original object.\n",
            "\n",
            "\n",
            "  data['Credit_History'].fillna(data['Credit_History'].mode()[0], inplace=True)\n",
            "<ipython-input-1-e7f6566568c5>:22: FutureWarning: A value is trying to be set on a copy of a DataFrame or Series through chained assignment using an inplace method.\n",
            "The behavior will change in pandas 3.0. This inplace method will never work because the intermediate object on which we are setting values always behaves as a copy.\n",
            "\n",
            "For example, when doing 'df[col].method(value, inplace=True)', try using 'df.method({col: value}, inplace=True)' or df[col] = df[col].method(value) instead, to perform the operation inplace on the original object.\n",
            "\n",
            "\n",
            "  data['Self_Employed'].fillna(data['Self_Employed'].mode()[0], inplace=True)\n",
            "<ipython-input-1-e7f6566568c5>:23: FutureWarning: A value is trying to be set on a copy of a DataFrame or Series through chained assignment using an inplace method.\n",
            "The behavior will change in pandas 3.0. This inplace method will never work because the intermediate object on which we are setting values always behaves as a copy.\n",
            "\n",
            "For example, when doing 'df[col].method(value, inplace=True)', try using 'df.method({col: value}, inplace=True)' or df[col] = df[col].method(value) instead, to perform the operation inplace on the original object.\n",
            "\n",
            "\n",
            "  data['LoanAmount'].fillna(data['LoanAmount'].mean(), inplace=True)\n"
          ]
        },
        {
          "output_type": "stream",
          "name": "stdout",
          "text": [
            "Accuracy: 77.24%\n",
            "              precision    recall  f1-score   support\n",
            "\n",
            "           0       0.83      0.44      0.58        43\n",
            "           1       0.76      0.95      0.84        80\n",
            "\n",
            "    accuracy                           0.77       123\n",
            "   macro avg       0.79      0.70      0.71       123\n",
            "weighted avg       0.78      0.77      0.75       123\n",
            "\n",
            "[[19 24]\n",
            " [ 4 76]]\n",
            "Loan Approval Prediction: Approved\n"
          ]
        },
        {
          "output_type": "stream",
          "name": "stderr",
          "text": [
            "/usr/local/lib/python3.10/dist-packages/sklearn/utils/validation.py:2739: UserWarning: X does not have valid feature names, but StandardScaler was fitted with feature names\n",
            "  warnings.warn(\n"
          ]
        }
      ],
      "source": [
        "import pandas as pd\n",
        "import numpy as np\n",
        "from sklearn.model_selection import train_test_split\n",
        "from sklearn.preprocessing import StandardScaler, LabelEncoder\n",
        "from sklearn.ensemble import RandomForestClassifier\n",
        "from sklearn.metrics import accuracy_score, classification_report, confusion_matrix\n",
        "\n",
        "\n",
        "# Load the dataset\n",
        "data = pd.read_csv('/content/loan_prediction.csv')\n",
        "\n",
        "# Display the first few rows of the dataset\n",
        "print(data.head())\n",
        "\n",
        "\n",
        "\n",
        "# Check for missing values\n",
        "print(data.isnull().sum())\n",
        "\n",
        "# Fill missing values (example: fill with mode for categorical and mean for numerical)\n",
        "data['Credit_History'].fillna(data['Credit_History'].mode()[0], inplace=True)\n",
        "data['Self_Employed'].fillna(data['Self_Employed'].mode()[0], inplace=True)\n",
        "data['LoanAmount'].fillna(data['LoanAmount'].mean(), inplace=True)\n",
        "\n",
        "# Replace '3+' with 3 in 'Dependents' column\n",
        "data['Dependents'] = data['Dependents'].replace('3+', '3')\n",
        "\n",
        "# Convert 'Dependents' column to numeric\n",
        "data['Dependents'] = pd.to_numeric(data['Dependents'])\n",
        "\n",
        "# Encode categorical variables\n",
        "label_encoder = LabelEncoder()\n",
        "data['Gender'] = label_encoder.fit_transform(data['Gender'])\n",
        "data['Married'] = label_encoder.fit_transform(data['Married'])\n",
        "data['Education'] = label_encoder.fit_transform(data['Education'])\n",
        "data['Self_Employed'] = label_encoder.fit_transform(data['Self_Employed'])\n",
        "data['Property_Area'] = label_encoder.fit_transform(data['Property_Area'])\n",
        "data['Loan_Status'] = label_encoder.fit_transform(data['Loan_Status'])\n",
        "\n",
        "# Select features and target variable\n",
        "X = data.drop(['Loan_ID', 'Loan_Status'], axis=1)\n",
        "y = data['Loan_Status']\n",
        "\n",
        "\n",
        "\n",
        "# Split the dataset into training and testing sets\n",
        "X_train, X_test, y_train, y_test = train_test_split(X, y, test_size=0.2, random_state=42)\n",
        "\n",
        "# Scale the features\n",
        "scaler = StandardScaler()\n",
        "X_train = scaler.fit_transform(X_train)\n",
        "X_test = scaler.transform(X_test)\n",
        "\n",
        "\n",
        "# Initialize the model\n",
        "model = RandomForestClassifier(n_estimators=100, random_state=42)\n",
        "\n",
        "# Train the model\n",
        "model.fit(X_train, y_train)\n",
        "\n",
        "\n",
        "# Make predictions\n",
        "y_pred = model.predict(X_test)\n",
        "\n",
        "# Evaluate the model\n",
        "accuracy = accuracy_score(y_test, y_pred)\n",
        "print(f'Accuracy: {accuracy * 100:.2f}%')\n",
        "\n",
        "# Print classification report\n",
        "print(classification_report(y_test, y_pred))\n",
        "\n",
        "# Print confusion matrix\n",
        "print(confusion_matrix(y_test, y_pred))\n",
        "\n",
        "\n",
        "import joblib\n",
        "\n",
        "# Save the model\n",
        "joblib.dump(model, 'loan_approval_model.pkl')\n",
        "\n",
        "\n",
        "# Load the model\n",
        "loaded_model = joblib.load('loan_approval_model.pkl')\n",
        "\n",
        "# Example prediction\n",
        "# Original: sample_data = np.array([[1, 0, 1, 0, 1, 0, 3000, 0, 360, 1, 1, 1]])  # Example input\n",
        "sample_data = np.array([[1, 0, 1, 0, 1, 0, 3000, 0, 360, 1, 1]])  # Example input - Removed one element to match 11 features\n",
        "sample_data_scaled = scaler.transform(sample_data)\n",
        "prediction = loaded_model.predict(sample_data_scaled)\n",
        "print(f'Loan Approval Prediction: {\"Approved\" if prediction[0] == 1 else \"Not Approved\"}')"
      ]
    }
  ]
}